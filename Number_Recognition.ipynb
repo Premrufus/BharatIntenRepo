{
  "nbformat": 4,
  "nbformat_minor": 0,
  "metadata": {
    "colab": {
      "provenance": [],
      "authorship_tag": "ABX9TyOvu9cIbNEkQ4Vr5iHeFZlE",
      "include_colab_link": true
    },
    "kernelspec": {
      "name": "python3",
      "display_name": "Python 3"
    },
    "language_info": {
      "name": "python"
    }
  },
  "cells": [
    {
      "cell_type": "markdown",
      "metadata": {
        "id": "view-in-github",
        "colab_type": "text"
      },
      "source": [
        "<a href=\"https://colab.research.google.com/github/Premrufus/BharatIntenRepo/blob/main/Number_Recognition.ipynb\" target=\"_parent\"><img src=\"https://colab.research.google.com/assets/colab-badge.svg\" alt=\"Open In Colab\"/></a>"
      ]
    },
    {
      "cell_type": "markdown",
      "source": [
        "# **DATA SCIENCE INTERN - BHARAT INTERN**"
      ],
      "metadata": {
        "id": "BfLl9Uz1ehU7"
      }
    },
    {
      "cell_type": "markdown",
      "source": [
        "# **TASK 3 - Number Recognition**"
      ],
      "metadata": {
        "id": "keJn8uCbiIza"
      }
    },
    {
      "cell_type": "markdown",
      "source": [
        "## **Problem Statement:** Handwritten Digit Recognition Using  MNIST Dataset with the Help of Neural Network."
      ],
      "metadata": {
        "id": "7eC6_EBsiS1B"
      }
    },
    {
      "cell_type": "markdown",
      "source": [
        "### **About Dataset**\n",
        "\n",
        "The MNIST dataset is a large database of handwritten digits that is commonly used for training various image processing systems. The database is also widely used for training and testing in the field of machine learning. It contains 60,000 training images and 10,000 testing images. Each image is a 28x28 pixel grayscale image of a handwritten digit from 0 to 9. The images have been size-normalized and centered in a fixed-size image.\n",
        "\n",
        "The MNIST dataset is a popular dataset for machine learning because it is relatively simple to understand and implement. The dataset is also large enough to train a variety of machine learning models, and it is diverse enough to capture the different ways that people write digits.\n",
        "\n",
        "The MNIST dataset can be used to train a variety of machine learning models, such as:\n",
        "* Supervised learning models, such as support vector machines (SVMs) and decision trees.\n",
        "* Unsupervised learning models, such as k-means clustering and principal component analysis (PCA).\n",
        "* Deep learning models, such as convolutional neural networks (CNNs) and recurrent neural networks (RNNs).\n",
        "\n",
        "The MNIST dataset has been used to develop a variety of applications, such as:\n",
        "\n",
        "* Handwritten digit recognition systems.\n",
        "* Fraud detection systems.\n",
        "* Image classification systems.\n",
        "* Natural language processing systems.\n",
        "\n",
        "The MNIST dataset is a valuable resource for researchers and practitioners in the field of machine learning. It is a simple, yet effective dataset for training and testing machine learning models"
      ],
      "metadata": {
        "id": "qqW2Y7u4p-P4"
      }
    },
    {
      "cell_type": "markdown",
      "source": [
        "## Importing Libraries and Dataset to used"
      ],
      "metadata": {
        "id": "j-zeuwkPrcEI"
      }
    },
    {
      "cell_type": "code",
      "execution_count": 1,
      "metadata": {
        "id": "QK6YKg0ufI_F"
      },
      "outputs": [],
      "source": [
        "# Importing Libraries\n",
        "import numpy as np\n",
        "import pandas as pd\n",
        "import matplotlib.pyplot as plt\n",
        "import seaborn as sns\n",
        "from numpy import unique , argmax\n",
        "\n",
        "# TensorFlow already contain MNIST data set which can be loaded using Keras\n",
        "import tensorflow as tf # installing tenserflow\n",
        "from tensorflow import keras"
      ]
    },
    {
      "cell_type": "code",
      "source": [
        "# To Load the MNIST dataset from the Keras API provided by TensorFlow.\n",
        "mnist = tf.keras.datasets.mnist"
      ],
      "metadata": {
        "id": "dl4ZZCkItR3H"
      },
      "execution_count": 2,
      "outputs": []
    },
    {
      "cell_type": "markdown",
      "source": [
        "The Above Code Reflects that the Dataset Contains :\n",
        "\n",
        "\n",
        "1.   An array of 60,000 images, each represented as a 28x28 NumPy array, with pixel values ranging from 0 to 255.\n",
        "2.   An array of 60,000 labels, each representing the correct digit (0-9) for the 1.\n",
        "3. An array of 10,000 images, each represented as a 28x28 NumPy array, with pixel values ranging from 0 to 255.\n",
        "4. An array of 10,000 labels, each representing the correct digit (0-9) for the 3.\n",
        "\n"
      ],
      "metadata": {
        "id": "CM8uWa6xtWUR"
      }
    },
    {
      "cell_type": "markdown",
      "source": [
        "## Dividing the data into train and test data"
      ],
      "metadata": {
        "id": "TzKB8f00u8R2"
      }
    },
    {
      "cell_type": "code",
      "source": [
        "(x_train, y_train), (x_test, y_test) = mnist.load_data()"
      ],
      "metadata": {
        "colab": {
          "base_uri": "https://localhost:8080/"
        },
        "id": "hDof2pQIu7S0",
        "outputId": "7292ab60-363c-4be9-e345-cb27e185c07e"
      },
      "execution_count": 3,
      "outputs": [
        {
          "output_type": "stream",
          "name": "stdout",
          "text": [
            "Downloading data from https://storage.googleapis.com/tensorflow/tf-keras-datasets/mnist.npz\n",
            "11490434/11490434 [==============================] - 0s 0us/step\n"
          ]
        }
      ]
    },
    {
      "cell_type": "code",
      "source": [
        "print(x_train.shape)\n",
        "print(y_train.shape)\n",
        "print(x_test.shape)\n",
        "print(y_test.shape)"
      ],
      "metadata": {
        "colab": {
          "base_uri": "https://localhost:8080/"
        },
        "id": "erKXqFwgvTEX",
        "outputId": "87000698-eacc-44b9-c0ed-b3c28f95ece3"
      },
      "execution_count": 4,
      "outputs": [
        {
          "output_type": "stream",
          "name": "stdout",
          "text": [
            "(60000, 28, 28)\n",
            "(60000,)\n",
            "(10000, 28, 28)\n",
            "(10000,)\n"
          ]
        }
      ]
    },
    {
      "cell_type": "code",
      "source": [
        "print(x_train)"
      ],
      "metadata": {
        "colab": {
          "base_uri": "https://localhost:8080/"
        },
        "id": "5VUASFXYvWBo",
        "outputId": "1316eda2-fecf-4635-9df1-b7d781e5bc1f"
      },
      "execution_count": 5,
      "outputs": [
        {
          "output_type": "stream",
          "name": "stdout",
          "text": [
            "[[[0 0 0 ... 0 0 0]\n",
            "  [0 0 0 ... 0 0 0]\n",
            "  [0 0 0 ... 0 0 0]\n",
            "  ...\n",
            "  [0 0 0 ... 0 0 0]\n",
            "  [0 0 0 ... 0 0 0]\n",
            "  [0 0 0 ... 0 0 0]]\n",
            "\n",
            " [[0 0 0 ... 0 0 0]\n",
            "  [0 0 0 ... 0 0 0]\n",
            "  [0 0 0 ... 0 0 0]\n",
            "  ...\n",
            "  [0 0 0 ... 0 0 0]\n",
            "  [0 0 0 ... 0 0 0]\n",
            "  [0 0 0 ... 0 0 0]]\n",
            "\n",
            " [[0 0 0 ... 0 0 0]\n",
            "  [0 0 0 ... 0 0 0]\n",
            "  [0 0 0 ... 0 0 0]\n",
            "  ...\n",
            "  [0 0 0 ... 0 0 0]\n",
            "  [0 0 0 ... 0 0 0]\n",
            "  [0 0 0 ... 0 0 0]]\n",
            "\n",
            " ...\n",
            "\n",
            " [[0 0 0 ... 0 0 0]\n",
            "  [0 0 0 ... 0 0 0]\n",
            "  [0 0 0 ... 0 0 0]\n",
            "  ...\n",
            "  [0 0 0 ... 0 0 0]\n",
            "  [0 0 0 ... 0 0 0]\n",
            "  [0 0 0 ... 0 0 0]]\n",
            "\n",
            " [[0 0 0 ... 0 0 0]\n",
            "  [0 0 0 ... 0 0 0]\n",
            "  [0 0 0 ... 0 0 0]\n",
            "  ...\n",
            "  [0 0 0 ... 0 0 0]\n",
            "  [0 0 0 ... 0 0 0]\n",
            "  [0 0 0 ... 0 0 0]]\n",
            "\n",
            " [[0 0 0 ... 0 0 0]\n",
            "  [0 0 0 ... 0 0 0]\n",
            "  [0 0 0 ... 0 0 0]\n",
            "  ...\n",
            "  [0 0 0 ... 0 0 0]\n",
            "  [0 0 0 ... 0 0 0]\n",
            "  [0 0 0 ... 0 0 0]]]\n"
          ]
        }
      ]
    },
    {
      "cell_type": "code",
      "source": [
        "print(x_test)"
      ],
      "metadata": {
        "colab": {
          "base_uri": "https://localhost:8080/"
        },
        "id": "OeX11vetvYAX",
        "outputId": "d2889728-4a5c-433a-c297-e446c92edc8c"
      },
      "execution_count": 6,
      "outputs": [
        {
          "output_type": "stream",
          "name": "stdout",
          "text": [
            "[[[0 0 0 ... 0 0 0]\n",
            "  [0 0 0 ... 0 0 0]\n",
            "  [0 0 0 ... 0 0 0]\n",
            "  ...\n",
            "  [0 0 0 ... 0 0 0]\n",
            "  [0 0 0 ... 0 0 0]\n",
            "  [0 0 0 ... 0 0 0]]\n",
            "\n",
            " [[0 0 0 ... 0 0 0]\n",
            "  [0 0 0 ... 0 0 0]\n",
            "  [0 0 0 ... 0 0 0]\n",
            "  ...\n",
            "  [0 0 0 ... 0 0 0]\n",
            "  [0 0 0 ... 0 0 0]\n",
            "  [0 0 0 ... 0 0 0]]\n",
            "\n",
            " [[0 0 0 ... 0 0 0]\n",
            "  [0 0 0 ... 0 0 0]\n",
            "  [0 0 0 ... 0 0 0]\n",
            "  ...\n",
            "  [0 0 0 ... 0 0 0]\n",
            "  [0 0 0 ... 0 0 0]\n",
            "  [0 0 0 ... 0 0 0]]\n",
            "\n",
            " ...\n",
            "\n",
            " [[0 0 0 ... 0 0 0]\n",
            "  [0 0 0 ... 0 0 0]\n",
            "  [0 0 0 ... 0 0 0]\n",
            "  ...\n",
            "  [0 0 0 ... 0 0 0]\n",
            "  [0 0 0 ... 0 0 0]\n",
            "  [0 0 0 ... 0 0 0]]\n",
            "\n",
            " [[0 0 0 ... 0 0 0]\n",
            "  [0 0 0 ... 0 0 0]\n",
            "  [0 0 0 ... 0 0 0]\n",
            "  ...\n",
            "  [0 0 0 ... 0 0 0]\n",
            "  [0 0 0 ... 0 0 0]\n",
            "  [0 0 0 ... 0 0 0]]\n",
            "\n",
            " [[0 0 0 ... 0 0 0]\n",
            "  [0 0 0 ... 0 0 0]\n",
            "  [0 0 0 ... 0 0 0]\n",
            "  ...\n",
            "  [0 0 0 ... 0 0 0]\n",
            "  [0 0 0 ... 0 0 0]\n",
            "  [0 0 0 ... 0 0 0]]]\n"
          ]
        }
      ]
    },
    {
      "cell_type": "code",
      "source": [
        "# Reshaping the input Data which is used as a input in CNN in Tenserflow\n",
        "# CNN takes the input Data in 4D Format with the shape (num_samples, image_height, image_width, num_channels)\n",
        "# Here (num_channels) is set to 1 which means input image is Grayscale.\n",
        "\n",
        "x_train = x_train.reshape((x_train.shape[0] , x_train.shape[1] , x_train.shape[2],1))\n",
        "x_test = x_test.reshape((x_test.shape[0] , x_test.shape[1] , x_test.shape[2],1))\n",
        "print(x_train.shape)\n",
        "print(x_test.shape)\n",
        "print(x_train.dtype)\n",
        "print(x_test.dtype)"
      ],
      "metadata": {
        "colab": {
          "base_uri": "https://localhost:8080/"
        },
        "id": "pRmrNo_8vawm",
        "outputId": "fc62c37c-12bd-42ae-bee3-cad1842d4c6c"
      },
      "execution_count": 7,
      "outputs": [
        {
          "output_type": "stream",
          "name": "stdout",
          "text": [
            "(60000, 28, 28, 1)\n",
            "(10000, 28, 28, 1)\n",
            "uint8\n",
            "uint8\n"
          ]
        }
      ]
    },
    {
      "cell_type": "code",
      "source": [
        "# Normalizing Pixel Values\n",
        "\n",
        "x_train = x_train.astype('float32')/255.0\n",
        "x_test = x_test.astype('float32')/255.0\n",
        "print(x_train.dtype)\n",
        "print(x_test.dtype)"
      ],
      "metadata": {
        "colab": {
          "base_uri": "https://localhost:8080/"
        },
        "id": "9PecGFHhvee5",
        "outputId": "230e18ca-1821-4f36-8469-442c56b3df45"
      },
      "execution_count": 8,
      "outputs": [
        {
          "output_type": "stream",
          "name": "stdout",
          "text": [
            "float32\n",
            "float32\n"
          ]
        }
      ]
    },
    {
      "cell_type": "code",
      "source": [
        "# Visulaizing Subsets of images in MNIST Dataset along with coressponding labels.\n",
        "\n",
        "fig=plt.figure(figsize=(5,3))\n",
        "for i in range(20):\n",
        "    ax =fig.add_subplot(2,10,i+1, xticks=[], yticks=[])\n",
        "    ax.imshow(np.squeeze(x_train[i]), cmap='Blues')\n",
        "    ax.set_title(y_train[i])"
      ],
      "metadata": {
        "colab": {
          "base_uri": "https://localhost:8080/",
          "height": 218
        },
        "id": "jYsxqPigvgVH",
        "outputId": "a93b7950-75ec-4f6f-82cd-a429c6c16bc2"
      },
      "execution_count": 9,
      "outputs": [
        {
          "output_type": "display_data",
          "data": {
            "text/plain": [
              "<Figure size 500x300 with 20 Axes>"
            ],
            "image/png": "[encoded data removed]"
          },
          "metadata": {}
        }
      ]
    },
    {
      "cell_type": "code",
      "source": [
        "# showing shape of single image\n",
        "img_shape= x_train.shape[1:]\n",
        "img_shape"
      ],
      "metadata": {
        "colab": {
          "base_uri": "https://localhost:8080/"
        },
        "id": "y_LKJQcQvhaI",
        "outputId": "d17228fe-2444-4d83-8b40-e835a2c42d97"
      },
      "execution_count": 10,
      "outputs": [
        {
          "output_type": "execute_result",
          "data": {
            "text/plain": [
              "(28, 28, 1)"
            ]
          },
          "metadata": {},
          "execution_count": 10
        }
      ]
    },
    {
      "cell_type": "markdown",
      "source": [
        "## Building Neural Network that can read handwritten digits"
      ],
      "metadata": {
        "id": "lzrj1VeMvjlR"
      }
    },
    {
      "cell_type": "code",
      "source": [
        "# Creating aSequential Model in Keras\n",
        "model = tf.keras.models.Sequential([\n",
        "    tf.keras.layers.Flatten(input_shape=(28, 28)),\n",
        "    tf.keras.layers.Dense(128, activation='relu'),\n",
        "    tf.keras.layers.Dropout(0.2),\n",
        "    tf.keras.layers.Dense(10)\n",
        "])"
      ],
      "metadata": {
        "id": "j0TTEXTQvrT5"
      },
      "execution_count": 11,
      "outputs": []
    },
    {
      "cell_type": "code",
      "source": [
        "model.summary()"
      ],
      "metadata": {
        "colab": {
          "base_uri": "https://localhost:8080/"
        },
        "id": "PIOWQ0qOv4Kf",
        "outputId": "3d073949-d5a1-4ae5-87b0-5b909f0031c3"
      },
      "execution_count": 12,
      "outputs": [
        {
          "output_type": "stream",
          "name": "stdout",
          "text": [
            "Model: \"sequential\"\n",
            "_________________________________________________________________\n",
            " Layer (type)                Output Shape              Param #   \n",
            "=================================================================\n",
            " flatten (Flatten)           (None, 784)               0         \n",
            "                                                                 \n",
            " dense (Dense)               (None, 128)               100480    \n",
            "                                                                 \n",
            " dropout (Dropout)           (None, 128)               0         \n",
            "                                                                 \n",
            " dense_1 (Dense)             (None, 10)                1290      \n",
            "                                                                 \n",
            "=================================================================\n",
            "Total params: 101770 (397.54 KB)\n",
            "Trainable params: 101770 (397.54 KB)\n",
            "Non-trainable params: 0 (0.00 Byte)\n",
            "_________________________________________________________________\n"
          ]
        }
      ]
    },
    {
      "cell_type": "markdown",
      "source": [
        "This summary shows that the model has four layers:\n",
        "\n",
        "1. A Flatten layer that flattens the input images to a 1D array of length 784.\n",
        "2. A Dense layer with 128 units and ReLU activation.\n",
        "3. A Dropout layer that randomly sets 20% of the input units to 0 during training.\n",
        "4. A second Dense layer with 10 units and no activation function.\n",
        "\n",
        "The summary also shows the number of trainable parameters in each layer, as well as the total number of trainable parameters in the model. In this case, the model has a total of 101,770 trainable parameters."
      ],
      "metadata": {
        "id": "jJii1g4cv7rX"
      }
    },
    {
      "cell_type": "code",
      "source": [
        "# Displaying Neural Network Model\n",
        "from tensorflow.keras.utils import plot_model\n",
        "plot_model(model, 'model.jpg', show_shapes = True)"
      ],
      "metadata": {
        "colab": {
          "base_uri": "https://localhost:8080/",
          "height": 533
        },
        "id": "8i4rK4Jkv6wn",
        "outputId": "f08784c5-41b7-49df-d261-f53034675e8a"
      },
      "execution_count": 13,
      "outputs": [
        {
          "output_type": "execute_result",
          "data": {
            "image/jpeg": "[encoded data removed]",
            "text/plain": [
              "<IPython.core.display.Image object>"
            ]
          },
          "metadata": {},
          "execution_count": 13
        }
      ]
    },
    {
      "cell_type": "code",
      "source": [
        "# Making Prediction on Model\n",
        "prediction = model(x_train[:1]).numpy()\n",
        "prediction"
      ],
      "metadata": {
        "colab": {
          "base_uri": "https://localhost:8080/"
        },
        "id": "U6AnqznhwGRX",
        "outputId": "52973a10-09ca-4fb8-b43f-b3f39d40dc28"
      },
      "execution_count": 14,
      "outputs": [
        {
          "output_type": "execute_result",
          "data": {
            "text/plain": [
              "array([[-0.66459775,  0.23936616,  0.27803394,  0.36669415,  0.37008065,\n",
              "         0.51092917, -0.04583089, -0.48883477,  0.31083974,  0.19633031]],\n",
              "      dtype=float32)"
            ]
          },
          "metadata": {},
          "execution_count": 14
        }
      ]
    },
    {
      "cell_type": "code",
      "source": [
        "# Applying Softmax() Function to prediction array\n",
        "# This convert an output vector of real numbers into a probability distribution over predicted classes\n",
        "tf.nn.softmax(prediction).numpy()"
      ],
      "metadata": {
        "colab": {
          "base_uri": "https://localhost:8080/"
        },
        "id": "GFmyiXSgwIMZ",
        "outputId": "24082e9c-c859-4883-e03f-daf41272a4b9"
      },
      "execution_count": 15,
      "outputs": [
        {
          "output_type": "execute_result",
          "data": {
            "text/plain": [
              "array([[0.04355152, 0.10754491, 0.11178488, 0.12214838, 0.12256273,\n",
              "        0.14110038, 0.08085936, 0.05192018, 0.11551289, 0.1030148 ]],\n",
              "      dtype=float32)"
            ]
          },
          "metadata": {},
          "execution_count": 15
        }
      ]
    },
    {
      "cell_type": "code",
      "source": [
        "loss_fn = tf.keras.losses.SparseCategoricalCrossentropy(from_logits=True)\n",
        "loss_fn(y_train[:1], prediction).numpy()\n",
        "model.compile(optimizer='adam',loss=loss_fn,metrics=['accuracy'])"
      ],
      "metadata": {
        "id": "GdCnyTIewJ1Q"
      },
      "execution_count": 16,
      "outputs": []
    },
    {
      "cell_type": "markdown",
      "source": [
        "## Model Fitting"
      ],
      "metadata": {
        "id": "S9qxk7FWwMHI"
      }
    },
    {
      "cell_type": "code",
      "source": [
        "# Training the Model\n",
        "model.fit(x_train, y_train, epochs=10)"
      ],
      "metadata": {
        "colab": {
          "base_uri": "https://localhost:8080/"
        },
        "id": "5kkNUCIXwN83",
        "outputId": "0c4f72d8-f3de-4966-944a-1d7d883d24cd"
      },
      "execution_count": 17,
      "outputs": [
        {
          "output_type": "stream",
          "name": "stdout",
          "text": [
            "Epoch 1/10\n",
            "1875/1875 [==============================] - 9s 4ms/step - loss: 0.3004 - accuracy: 0.9130\n",
            "Epoch 2/10\n",
            "1875/1875 [==============================] - 11s 6ms/step - loss: 0.1422 - accuracy: 0.9576\n",
            "Epoch 3/10\n",
            "1875/1875 [==============================] - 10s 5ms/step - loss: 0.1057 - accuracy: 0.9677\n",
            "Epoch 4/10\n",
            "1875/1875 [==============================] - 8s 4ms/step - loss: 0.0885 - accuracy: 0.9725\n",
            "Epoch 5/10\n",
            "1875/1875 [==============================] - 8s 4ms/step - loss: 0.0749 - accuracy: 0.9768\n",
            "Epoch 6/10\n",
            "1875/1875 [==============================] - 7s 4ms/step - loss: 0.0655 - accuracy: 0.9791\n",
            "Epoch 7/10\n",
            "1875/1875 [==============================] - 12s 6ms/step - loss: 0.0612 - accuracy: 0.9801\n",
            "Epoch 8/10\n",
            "1875/1875 [==============================] - 12s 6ms/step - loss: 0.0521 - accuracy: 0.9830\n",
            "Epoch 9/10\n",
            "1875/1875 [==============================] - 8s 4ms/step - loss: 0.0505 - accuracy: 0.9830\n",
            "Epoch 10/10\n",
            "1875/1875 [==============================] - 7s 4ms/step - loss: 0.0458 - accuracy: 0.9851\n"
          ]
        },
        {
          "output_type": "execute_result",
          "data": {
            "text/plain": [
              "<keras.src.callbacks.History at 0x7c39fc1efd90>"
            ]
          },
          "metadata": {},
          "execution_count": 17
        }
      ]
    },
    {
      "cell_type": "code",
      "source": [
        "# Evaluating the Model\n",
        "model.evaluate(x_test, y_test, verbose=2)"
      ],
      "metadata": {
        "colab": {
          "base_uri": "https://localhost:8080/"
        },
        "id": "5bFLgCE2wRi6",
        "outputId": "2dd4d7b4-6d13-4aa6-ac6b-fa0024e5a371"
      },
      "execution_count": 18,
      "outputs": [
        {
          "output_type": "stream",
          "name": "stdout",
          "text": [
            "313/313 - 1s - loss: 0.0726 - accuracy: 0.9797 - 650ms/epoch - 2ms/step\n"
          ]
        },
        {
          "output_type": "execute_result",
          "data": {
            "text/plain": [
              "[0.07260674983263016, 0.9797000288963318]"
            ]
          },
          "metadata": {},
          "execution_count": 18
        }
      ]
    },
    {
      "cell_type": "code",
      "source": [
        "# Creating a new sequential model which includes both previously trained model and softmax layer.\n",
        "probability_model = tf.keras.Sequential([ model,tf.keras.layers.Softmax() ])\n",
        "probability_model(x_test[:5])"
      ],
      "metadata": {
        "colab": {
          "base_uri": "https://localhost:8080/"
        },
        "id": "sCsigH8-wTJj",
        "outputId": "7de4bb43-d4b6-4f87-f03a-e436422caca3"
      },
      "execution_count": 19,
      "outputs": [
        {
          "output_type": "execute_result",
          "data": {
            "text/plain": [
              "<tf.Tensor: shape=(5, 10), dtype=float32, numpy=\n",
              "array([[1.47790957e-09, 3.02284933e-11, 1.38890607e-06, 8.95034289e-04,\n",
              "        5.03831765e-14, 6.05575508e-07, 1.09643915e-16, 9.99066412e-01,\n",
              "        6.81612050e-07, 3.58629150e-05],\n",
              "       [1.56267308e-11, 7.45208035e-06, 9.99992371e-01, 1.59527175e-07,\n",
              "        3.45062957e-21, 2.41979752e-08, 3.23012950e-10, 2.25757557e-14,\n",
              "        1.44254386e-10, 2.39982108e-20],\n",
              "       [1.37093226e-09, 9.99680638e-01, 2.52759310e-05, 2.03951998e-07,\n",
              "        6.04806155e-06, 1.82417708e-07, 4.11134261e-06, 1.61444696e-04,\n",
              "        1.22185229e-04, 8.37922620e-09],\n",
              "       [9.99994874e-01, 8.33524572e-16, 1.22725987e-06, 9.46486015e-11,\n",
              "        2.63308753e-08, 1.14323335e-07, 4.29416929e-07, 1.16442372e-07,\n",
              "        2.92381341e-10, 3.26244344e-06],\n",
              "       [8.33211988e-09, 2.30600278e-11, 8.68923866e-09, 7.88196244e-11,\n",
              "        9.99633431e-01, 4.59924898e-09, 7.85368641e-08, 9.37142318e-07,\n",
              "        1.11242615e-09, 3.65425483e-04]], dtype=float32)>"
            ]
          },
          "metadata": {},
          "execution_count": 19
        }
      ]
    },
    {
      "cell_type": "code",
      "source": [
        "# Displaying a Grayscale Image\n",
        "img = x_train[12]\n",
        "plt.imshow(np.squeeze(img) ,cmap='gray')\n",
        "plt.show()"
      ],
      "metadata": {
        "colab": {
          "base_uri": "https://localhost:8080/",
          "height": 430
        },
        "id": "hhKO7WjzwUuJ",
        "outputId": "3d0bc4de-eae1-4dbf-b3ef-26934e504d17"
      },
      "execution_count": 20,
      "outputs": [
        {
          "output_type": "display_data",
          "data": {
            "text/plain": [
              "<Figure size 640x480 with 1 Axes>"
            ],
            "image/png": "[encoded data removed]"
          },
          "metadata": {}
        }
      ]
    },
    {
      "cell_type": "code",
      "source": [
        "# Predicting the Result\n",
        "img= img.reshape(1, img.shape[0],img.shape[1],img.shape[2])\n",
        "p= model.predict([img])\n",
        "print(\"predicted : {}\".format(argmax(p)))"
      ],
      "metadata": {
        "colab": {
          "base_uri": "https://localhost:8080/"
        },
        "id": "gZv5mbaFw4yv",
        "outputId": "c7e78cac-b296-40d7-d49b-8930857f74c6"
      },
      "execution_count": 21,
      "outputs": [
        {
          "output_type": "stream",
          "name": "stdout",
          "text": [
            "1/1 [==============================] - 0s 182ms/step\n",
            "predicted : 3\n"
          ]
        }
      ]
    }
  ]
}